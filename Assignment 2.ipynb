{
 "cells": [
  {
   "cell_type": "markdown",
   "id": "abbb1fdc-e873-4496-a6af-7b4caeabe9b6",
   "metadata": {},
   "source": [
    "Question 1"
   ]
  },
  {
   "cell_type": "code",
   "execution_count": 1,
   "id": "8dde808a-a4ba-4ca0-9e9b-af0465a453d9",
   "metadata": {},
   "outputs": [
    {
     "name": "stdin",
     "output_type": "stream",
     "text": [
      "Please enter your percentage:  60\n"
     ]
    },
    {
     "name": "stdout",
     "output_type": "stream",
     "text": [
      "C\n"
     ]
    }
   ],
   "source": [
    "#Write a program to accept percentage from the user and display the grade according to the following criteria:\n",
    "#input marks here\n",
    "Marks = int(input(\"Please enter your percentage: \"))\n",
    "#checking for criteria\n",
    "if Marks > 90:\n",
    "    print(\"A\")\n",
    "elif Marks>80 and Marks<=90:\n",
    "    print(\"B\")\n",
    "elif Marks>=60 and Marks<=80:\n",
    "    print(\"C\")\n",
    "else:\n",
    "    print(\"D\")"
   ]
  },
  {
   "cell_type": "markdown",
   "id": "87fac383-2825-47a2-b5ab-57b95e2f3fd5",
   "metadata": {},
   "source": [
    "Question 2"
   ]
  },
  {
   "cell_type": "code",
   "execution_count": 2,
   "id": "504f0478-e368-49f3-a8f0-ae901797441d",
   "metadata": {},
   "outputs": [
    {
     "name": "stdin",
     "output_type": "stream",
     "text": [
      "Enter the cost price of a bike:  660000\n"
     ]
    },
    {
     "name": "stdout",
     "output_type": "stream",
     "text": [
      "15%\n"
     ]
    }
   ],
   "source": [
    "#Write a program to accept the cost price of a bike and display\n",
    "#the road tax to be paid according to the following criteria\n",
    "\n",
    "#user input\n",
    "costPriceOfBike = float(input(\"Enter the cost price of a bike: \"))\n",
    "#criteria\n",
    "if(costPriceOfBike>100000):\n",
    "    print(\"15%\")\n",
    "elif costPriceOfBike>50000 and costPriceOfBike<=100000:\n",
    "    print(\"10%\")\n",
    "else:\n",
    "    print(\"5%\")"
   ]
  },
  {
   "cell_type": "markdown",
   "id": "ca23b50a-5f28-4511-aa99-b504aa4c4209",
   "metadata": {},
   "source": [
    "Question 3"
   ]
  },
  {
   "cell_type": "code",
   "execution_count": 4,
   "id": "64a1b49d-9cf2-42b5-947d-60764d8b6172",
   "metadata": {},
   "outputs": [
    {
     "name": "stdin",
     "output_type": "stream",
     "text": [
      "Enter city name:  Delhi\n"
     ]
    },
    {
     "name": "stdout",
     "output_type": "stream",
     "text": [
      "Red Fort\n"
     ]
    }
   ],
   "source": [
    "#accept any city from the user and display monuments of that city\n",
    "\n",
    "#user input\n",
    "city = input(\"Enter city name: \")\n",
    "#display monuments of that city\n",
    "if city == \"Delhi\":\n",
    "    print(\"Red Fort\")\n",
    "elif city == \"Agra\":\n",
    "    print(\"Taj Mahal\")\n",
    "elif city == \"Jaipur\":\n",
    "    print(\"Jal Mahal\")"
   ]
  },
  {
   "cell_type": "markdown",
   "id": "efb735ca-c006-4f33-b234-57e8a103bb28",
   "metadata": {},
   "source": [
    "Question 4"
   ]
  },
  {
   "cell_type": "code",
   "execution_count": 5,
   "id": "70dd56b5-db8c-4505-9383-f0b9825f86fa",
   "metadata": {},
   "outputs": [
    {
     "name": "stdin",
     "output_type": "stream",
     "text": [
      "Enter a number:  666\n"
     ]
    },
    {
     "name": "stdout",
     "output_type": "stream",
     "text": [
      "The number can be divided by 3 is 4 times before it is less than or equal to 10.\n"
     ]
    }
   ],
   "source": [
    "#check how many times a given number can be divided by 3\n",
    "#before it is less than or equal to 10\n",
    "\n",
    "#user input\n",
    "number = int(input(\"Enter a number: \"))\n",
    "#variable declaration\n",
    "count = 0\n",
    "#while loop will run until it is less than or equal to 10\n",
    "while number > 10:\n",
    "    #check for divide by 3\n",
    "    number = number / 3\n",
    "    #increment count\n",
    "    count += 1\n",
    "#print message\n",
    "print(\"The number can be divided by 3 is\", count, \"times before it is less than or equal to 10.\")\n"
   ]
  },
  {
   "cell_type": "markdown",
   "id": "4e8477dd-2da1-42c3-9f9e-71145654e0a7",
   "metadata": {},
   "source": [
    "Question 5"
   ]
  },
  {
   "cell_type": "code",
   "execution_count": 6,
   "id": "251ff318-08dc-4aeb-af65-c88cdb7eeacb",
   "metadata": {},
   "outputs": [
    {
     "name": "stdout",
     "output_type": "stream",
     "text": [
      "1\n",
      "2\n",
      "3\n",
      "4\n",
      "5\n",
      "6\n",
      "7\n",
      "8\n",
      "9\n",
      "10\n"
     ]
    }
   ],
   "source": [
    "#Why and when to use while loop in python\n",
    "#give a detailed description with example\n",
    "\n",
    "# A while loop in Python is used to repeatedly execute a block of code\n",
    "# as long as a certain condition is met.\n",
    "# The loop will keep running as long as the condition is True,\n",
    "# and will exit when the condition becomes False.\n",
    "\n",
    "# Here's the general syntax for a while loop in Python:\n",
    "# while condition:\n",
    "#     # Code to be executed\n",
    "\n",
    "# Here's an example that demonstrates the use of a while loop:\n",
    "# Print the numbers from 1 to 10\n",
    "counter = 1\n",
    "\n",
    "while counter <= 10:\n",
    "    print(counter)\n",
    "    counter += 1\n",
    "\n",
    "# In this example, the while loop will run as long as\n",
    "# the value of counter is less than or equal to 10.\n",
    "# On each iteration of the loop, the value of counter is printed,\n",
    "# and then incremented by 1.\n",
    "# The loop will exit when the value of counter becomes greater than 10.\n",
    "\n",
    "# The while loop is useful when you don't know in advance how many times\n",
    "# you need to loop, and you want to keep looping until a certain condition is met.\n",
    "# For example, you can use a while loop to read data from a file until the end of the file is reached,\n",
    "# or to keep asking the user for input until a valid response is given.\n"
   ]
  },
  {
   "cell_type": "markdown",
   "id": "2cb75ed3-9525-46a6-aa3f-2d678d125128",
   "metadata": {},
   "source": [
    "Question 6"
   ]
  },
  {
   "cell_type": "code",
   "execution_count": 7,
   "id": "d35c2819-389f-4d2d-8a17-67e942585a1e",
   "metadata": {},
   "outputs": [
    {
     "name": "stdout",
     "output_type": "stream",
     "text": [
      "Pattern 1\n",
      "1\n",
      "12\n",
      "123\n",
      "1234\n",
      "----------------------------------------------------------------\n",
      "Pattern 2\n",
      "*\n",
      "**\n",
      "***\n",
      "****\n",
      "----------------------------------------------------------------\n",
      "Pattern 3\n",
      "😀😀😆😀😀😆😀😀😆😀😀😆😀😀😆😀😀😆😀😀😆😀😀😆😀😀😆\n",
      "😀😀😆😀😀😆😀😀😆😀😀😆😀😀😆😀😀😆😀😀😆😀😀😆😀😀😆\n",
      "😀😀😆😀😀😆😀😀😆😀😀😆😀😀😆😀😀😆😀😀😆😀😀😆😀😀😆\n",
      "😀😀😆😀😀😆😀😀😆😀😀😆😀😀😆😀😀😆😀😀😆😀😀😆😀😀😆\n",
      "😀😀😆😀😀😆😀😀😆😀😀😆😀😀😆😀😀😆😀😀😆😀😀😆😀😀😆\n",
      "😀😀😆😀😀😆😀😀😆😀😀😆😀😀😆😀😀😆😀😀😆😀😀😆😀😀😆\n",
      "😀😀😆😀😀😆😀😀😆😀😀😆😀😀😆😀😀😆😀😀😆😀😀😆😀😀😆\n",
      "😀😀😆😀😀😆😀😀😆😀😀😆😀😀😆😀😀😆😀😀😆😀😀😆😀😀😆\n",
      "😀😀😆😀😀😆😀😀😆😀😀😆😀😀😆😀😀😆😀😀😆😀😀😆😀😀😆\n"
     ]
    }
   ],
   "source": [
    "#Use nested while loop to print 3 different pattern\n",
    "\n",
    "#pattern 1 \n",
    "print(\"Pattern 1\")\n",
    "#initialize variables \n",
    "i=1\n",
    "j=1\n",
    "#while loop\n",
    "while i<5:\n",
    "    #nested while\n",
    "    while j<=i:\n",
    "        #printed j without space\n",
    "        print(j, end=\"\")\n",
    "        #increment j by 1\n",
    "        j+=1\n",
    "    #print new line\n",
    "    print()\n",
    "    #reset value of j\n",
    "    j=1\n",
    "    #increment value of i by 1\n",
    "    i+=1\n",
    "\n",
    "print(\"----------------------------------------------------------------\")\n",
    "print(\"Pattern 2\")\n",
    "#initialize variables \n",
    "i=1\n",
    "j=1\n",
    "#while loop\n",
    "while i<5:\n",
    "    #nested while\n",
    "    while j<=i:\n",
    "        #printed * without space\n",
    "        print(\"*\", end=\"\")\n",
    "        #increment j by 1\n",
    "        j+=1\n",
    "    #print new line\n",
    "    print()\n",
    "    #reset value of j\n",
    "    j=1\n",
    "    #increment value of i by 1\n",
    "    i+=1\n",
    "\n",
    "print(\"----------------------------------------------------------------\")\n",
    "print(\"Pattern 3\")\n",
    "#initialize variables \n",
    "i=1\n",
    "j=1\n",
    "#while loop\n",
    "while i<10:\n",
    "    #nested while\n",
    "    while j<10:\n",
    "        #printed smile with smile using Unicode associated with it\n",
    "        print(\"\\U0001f600\\U0001f600\", end=\"\\U0001F606\")\n",
    "        #increment j by 1\n",
    "        j+=1\n",
    "    #print new line\n",
    "    print()\n",
    "    #reset value of j\n",
    "    j=1\n",
    "    #increment value of i by 1\n",
    "    i+=1"
   ]
  },
  {
   "cell_type": "markdown",
   "id": "a95f58eb-1e34-4989-90d4-76da5f19e952",
   "metadata": {},
   "source": [
    "Question 7"
   ]
  },
  {
   "cell_type": "code",
   "execution_count": 8,
   "id": "0e0eddc3-52d5-4252-9a90-4468586bd3b3",
   "metadata": {},
   "outputs": [
    {
     "name": "stdout",
     "output_type": "stream",
     "text": [
      "10\n",
      "9\n",
      "8\n",
      "7\n",
      "6\n",
      "5\n",
      "4\n",
      "3\n",
      "2\n",
      "1\n"
     ]
    }
   ],
   "source": [
    "#reverse a while loop to display the numbers from 10 to 1\n",
    "\n",
    "#variable declaration\n",
    "upperBound=10\n",
    "lowerBound=1\n",
    "#while loop\n",
    "while upperBound>=lowerBound:\n",
    "    #print upperBound\n",
    "    print(upperBound)\n",
    "    #decrement upperBound by 1\n",
    "    upperBound-=1"
   ]
  },
  {
   "cell_type": "markdown",
   "id": "c0025904-e706-4822-91ba-69f5d5b30a0b",
   "metadata": {},
   "source": [
    "Question 8"
   ]
  },
  {
   "cell_type": "code",
   "execution_count": 9,
   "id": "1f66e175-f895-4800-90e6-ede06f9a1865",
   "metadata": {},
   "outputs": [
    {
     "name": "stdout",
     "output_type": "stream",
     "text": [
      "10\n",
      "9\n",
      "8\n",
      "7\n",
      "6\n",
      "5\n",
      "4\n",
      "3\n",
      "2\n",
      "1\n"
     ]
    }
   ],
   "source": [
    "#reverse a while loop to display the numbers from 10 to 1\n",
    "\n",
    "#variable declaration\n",
    "upperBound=10\n",
    "lowerBound=1\n",
    "#while loop\n",
    "while upperBound>=lowerBound:\n",
    "    #print upperBound\n",
    "    print(upperBound)\n",
    "    #decrement upperBound by 1\n",
    "    upperBound-=1"
   ]
  },
  {
   "cell_type": "code",
   "execution_count": null,
   "id": "94b85930-39bc-4f2a-901f-7b5161886b24",
   "metadata": {},
   "outputs": [],
   "source": []
  }
 ],
 "metadata": {
  "kernelspec": {
   "display_name": "Python 3 (ipykernel)",
   "language": "python",
   "name": "python3"
  },
  "language_info": {
   "codemirror_mode": {
    "name": "ipython",
    "version": 3
   },
   "file_extension": ".py",
   "mimetype": "text/x-python",
   "name": "python",
   "nbconvert_exporter": "python",
   "pygments_lexer": "ipython3",
   "version": "3.10.8"
  }
 },
 "nbformat": 4,
 "nbformat_minor": 5
}
